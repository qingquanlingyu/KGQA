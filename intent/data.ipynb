{
 "cells": [
  {
   "cell_type": "code",
   "execution_count": null,
   "source": [
    "import pandas as pd\r\n",
    "import csv\r\n",
    "from myeda import EDA\r\n",
    "\r\n",
    "eda = EDA()"
   ],
   "outputs": [],
   "metadata": {}
  },
  {
   "cell_type": "code",
   "execution_count": null,
   "source": [
    "data = pd.read_csv(\"./data/data.csv\")\r\n",
    "texts = []\r\n",
    "labels = []\r\n",
    "for text,label in zip(data[\"text\"],data[\"label\"]):\r\n",
    "    tmp = eda.eda(text,alpha_sr=0,alpha_ri=0,p_rd=0.05)\r\n",
    "    texts.append(tmp)\r\n",
    "    labels.append(label)\r\n",
    "\r\n",
    "pres = [\"\", \"你好，\", \"你好，请问\", \"你好，请问一下\", \"请问一下\", \"请问\", \"讲讲\", \"请你讲讲\", \"帮我查查\", \"帮我搜下\"]\r\n",
    "with open('./data/train.csv', 'w', newline='') as f:\r\n",
    "    writer = csv.writer(f)\r\n",
    "    for i in range(len(texts)):\r\n",
    "        for j in texts[i]:\r\n",
    "            for pre in pres:\r\n",
    "                writer.writerow([pre+str(j).replace(\" \",\"\"), int(labels[i])])\r\n"
   ],
   "outputs": [],
   "metadata": {}
  }
 ],
 "metadata": {
  "orig_nbformat": 4,
  "language_info": {
   "name": "python",
   "version": "3.10.10",
   "mimetype": "text/x-python",
   "codemirror_mode": {
    "name": "ipython",
    "version": 3
   },
   "pygments_lexer": "ipython3",
   "nbconvert_exporter": "python",
   "file_extension": ".py"
  },
  "kernelspec": {
   "name": "python3",
   "display_name": "Python 3.10.10 64-bit ('test': venv)"
  },
  "interpreter": {
   "hash": "bba7c29ece2c7d8bf96e77a6dae39f3d0f34b1b1557f23b4711417acd9b9299c"
  }
 },
 "nbformat": 4,
 "nbformat_minor": 2
}